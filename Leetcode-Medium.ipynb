{
 "cells": [
  {
   "cell_type": "code",
   "execution_count": null,
   "metadata": {},
   "outputs": [],
   "source": [
    "974. Given an array A of integers, return the number of (contiguous, non-empty) subarrays that have a sum divisible by K."
   ]
  },
  {
   "cell_type": "code",
   "execution_count": null,
   "metadata": {},
   "outputs": [],
   "source": [
    "class Solution:\n",
    "    def subarraysDivByK(self, A: List[int], K: int) -> int:\n",
    "        P=[0]\n",
    "        for x in A:\n",
    "            P.append((P[-1]+x)%K)\n",
    "        count=collections.Counter(P)\n",
    "\n",
    "        return int(sum(v*(v-1)/2 for v in count.values()))"
   ]
  },
  {
   "cell_type": "code",
   "execution_count": null,
   "metadata": {},
   "outputs": [],
   "source": [
    "179. Given a list of non-negative integers nums, arrange them such that they form the largest number."
   ]
  },
  {
   "cell_type": "code",
   "execution_count": null,
   "metadata": {},
   "outputs": [],
   "source": [
    "class Solution:\n",
    "    def largestNumber(self, nums: List[int]) -> str:\n",
    "        import functools\n",
    "        if len(nums)==0:\n",
    "            return '0'\n",
    "        nums = sorted([str(x) for x in nums], key=functools.cmp_to_key(cmp), reverse=True)\n",
    "        return str(int(''.join(nums)))\n",
    "\n",
    "def cmp(x, y):\n",
    "    if (x+y) < (y+x):\n",
    "        return -1\n",
    "    else:\n",
    "        return 1"
   ]
  },
  {
   "cell_type": "code",
   "execution_count": null,
   "metadata": {},
   "outputs": [],
   "source": [
    "987. Given a binary tree, return the vertical order traversal of its nodes values.\n",
    "\n",
    "For each node at position (X, Y), its left and right children respectively will be at positions (X-1, Y-1) and (X+1, Y-1).\n",
    "\n",
    "Running a vertical line from X = -infinity to X = +infinity, whenever the vertical line touches some nodes, we report the values of the nodes in order from top to bottom (decreasing Y coordinates).\n",
    "\n",
    "If two nodes have the same position, then the value of the node that is reported first is the value that is smaller.\n",
    "\n",
    "Return an list of non-empty reports in order of X coordinate.  Every report will have a list of values of nodes."
   ]
  },
  {
   "cell_type": "code",
   "execution_count": null,
   "metadata": {},
   "outputs": [],
   "source": [
    "# Definition for a binary tree node.\n",
    "# class TreeNode:\n",
    "#     def __init__(self, val=0, left=None, right=None):\n",
    "#         self.val = val\n",
    "#         self.left = left\n",
    "#         self.right = right\n",
    "class Solution:\n",
    "    def verticalTraversal(self, root: TreeNode) -> List[List[int]]:\n",
    "        dic=collections.defaultdict(list)\n",
    "        queue=[(root,0,0)]\n",
    "        ans=[]\n",
    "        \n",
    "        while queue:\n",
    "            for i in range(len(queue)):\n",
    "                node,hd,vd=queue.pop(0)\n",
    "                dic[hd].append((vd,node.val))\n",
    "                if node.left:\n",
    "                    queue.append((node.left,hd-1,vd-1))\n",
    "                if node.right:\n",
    "                    queue.append((node.right,hd+1,vd-1))\n",
    "        \n",
    "        for i in sorted(dic.keys()):\n",
    "            level=[x[1] for x in sorted(dic[i],key=lambda x:(-x[0],x[1]))]   \n",
    "            ans.append(level)\n",
    "        return ans"
   ]
  },
  {
   "cell_type": "code",
   "execution_count": null,
   "metadata": {},
   "outputs": [],
   "source": [
    "1209. Given a string s, a k duplicate removal consists of choosing k adjacent and equal letters from s and removing them causing the left and the right side of the deleted substring to concatenate together.\n",
    "\n",
    "We repeatedly make k duplicate removals on s until we no longer can.\n",
    "\n",
    "Return the final string after all such duplicate removals have been made.\n",
    "\n",
    "It is guaranteed that the answer is unique."
   ]
  },
  {
   "cell_type": "code",
   "execution_count": null,
   "metadata": {},
   "outputs": [],
   "source": [
    "class Solution:\n",
    "    def removeDuplicates(self, s: str, k: int) -> str:\n",
    "        stack = [['#', 0]]\n",
    "        for c in s:\n",
    "            if stack[-1][0] == c:\n",
    "                stack[-1][1] += 1\n",
    "                if stack[-1][1] == k:\n",
    "                    stack.pop()\n",
    "            else:\n",
    "                stack.append([c, 1])\n",
    "        return ''.join(c * k for c, k in stack)"
   ]
  },
  {
   "cell_type": "code",
   "execution_count": null,
   "metadata": {},
   "outputs": [],
   "source": [
    "348. Assume the following rules are for the tic-tac-toe game on an n x n board between two players:\n",
    "\n",
    "A move is guaranteed to be valid and is placed on an empty block.\n",
    "Once a winning condition is reached, no more moves are allowed.\n",
    "A player who succeeds in placing n of their marks in a horizontal, vertical, or diagonal row wins the game.\n",
    "Implement the TicTacToe class:\n",
    "\n",
    "TicTacToe(int n) Initializes the object the size of the board n.\n",
    "int move(int row, int col, int player) Indicates that player with id player plays at the cell (row, col) of the board. The move is guaranteed to be a valid move."
   ]
  },
  {
   "cell_type": "code",
   "execution_count": null,
   "metadata": {},
   "outputs": [],
   "source": [
    "class TicTacToe:\n",
    "\n",
    "    def __init__(self, n: int):\n",
    "        self.board = [ [0] * n for i in range(n) ]\n",
    "        self.size = n     \n",
    "\n",
    "    def move(self, row: int, col: int, player: int) -> int:\n",
    "        if self.board[row][col] == 0: \n",
    "            self.board[row][col] = player\n",
    "\n",
    "        for i in range(self.size):\n",
    "            if self.board[row][i] != player: \n",
    "                break\n",
    "        else: return player\n",
    "\n",
    "        for i in range(self.size):\n",
    "            if self.board[i][col] != player: \n",
    "                break\n",
    "        else: return player\n",
    "\n",
    "        for i in range(self.size):\n",
    "            if self.board[i][i] != player: break\n",
    "        else: return player\n",
    "\n",
    "        for i in range(self.size):\n",
    "            if self.board[self.size-i-1][i] != player: break\n",
    "        else: return player\n",
    "\n",
    "        return 0\n",
    "\n",
    "\n",
    "\n",
    "# Your TicTacToe object will be instantiated and called as such:\n",
    "# obj = TicTacToe(n)\n",
    "# param_1 = obj.move(row,col,player)"
   ]
  },
  {
   "cell_type": "code",
   "execution_count": null,
   "metadata": {},
   "outputs": [],
   "source": [
    "289. According to the Wikipedia's article: \"The Game of Life, also known simply as Life, is a cellular automaton devised by the British mathematician John Horton Conway in 1970.\"\n",
    "\n",
    "Given a board with m by n cells, each cell has an initial state live (1) or dead (0). Each cell interacts with its eight neighbors (horizontal, vertical, diagonal) using the following four rules (taken from the above Wikipedia article):\n",
    "\n",
    "Any live cell with fewer than two live neighbors dies, as if caused by under-population.\n",
    "Any live cell with two or three live neighbors lives on to the next generation.\n",
    "Any live cell with more than three live neighbors dies, as if by over-population..\n",
    "Any dead cell with exactly three live neighbors becomes a live cell, as if by reproduction.\n",
    "Write a function to compute the next state (after one update) of the board given its current state. The next state is created by applying the above rules simultaneously to every cell in the current state, where births and deaths occur simultaneously."
   ]
  },
  {
   "cell_type": "code",
   "execution_count": null,
   "metadata": {},
   "outputs": [],
   "source": [
    "class Solution:\n",
    "    def gameOfLife(self, board: List[List[int]]) -> None:\n",
    "        \"\"\"\n",
    "        Do not return anything, modify board in-place instead.\n",
    "        \"\"\"\n",
    "        neighbors = [(1,0), (1,-1), (0,-1), (-1,-1), (-1,0), (-1,1), (0,1), (1,1)]\n",
    "\n",
    "        rows = len(board)\n",
    "        cols = len(board[0])\n",
    "\n",
    "        copy_board = [[board[row][col] for col in range(cols)] for row in range(rows)]\n",
    "\n",
    "        for row in range(rows):\n",
    "            for col in range(cols):\n",
    "                live_neighbors = 0\n",
    "                for neighbor in neighbors:\n",
    "                    r = (row + neighbor[0])\n",
    "                    c = (col + neighbor[1])\n",
    "\n",
    "                    if (r < rows and r >= 0) and (c < cols and c >= 0) and (copy_board[r][c] == 1):\n",
    "                        live_neighbors += 1\n",
    "       \n",
    "                if copy_board[row][col] == 1 and (live_neighbors < 2 or live_neighbors > 3):\n",
    "                    board[row][col] = 0\n",
    "                if copy_board[row][col] == 0 and live_neighbors == 3:\n",
    "                    board[row][col] = 1"
   ]
  },
  {
   "cell_type": "code",
   "execution_count": null,
   "metadata": {},
   "outputs": [],
   "source": [
    "526. Suppose you have N integers from 1 to N. We define a beautiful arrangement as an array that is constructed by these N numbers successfully if one of the following is true for the ith position (1 <= i <= N) in this array:\n",
    "\n",
    "The number at the ith position is divisible by i.\n",
    "i is divisible by the number at the ith position.\n",
    " \n",
    "\n",
    "Now given N, how many beautiful arrangements can you construct?"
   ]
  },
  {
   "cell_type": "code",
   "execution_count": null,
   "metadata": {},
   "outputs": [],
   "source": [
    "class Solution:\n",
    "    def countArrangement(self, N: int) -> int:\n",
    "        def count(i, X):\n",
    "            if i == 1:\n",
    "                return 1\n",
    "            return sum(count(i - 1, X - {x})\n",
    "                       for x in X\n",
    "                       if x % i == 0 or i % x == 0)\n",
    "        return count(N, set(range(1, N + 1)))"
   ]
  },
  {
   "cell_type": "code",
   "execution_count": null,
   "metadata": {},
   "outputs": [],
   "source": [
    "98. Given the root of a binary tree, determine if it is a valid binary search tree (BST).\n",
    "\n",
    "A valid BST is defined as follows:\n",
    "\n",
    "The left subtree of a node contains only nodes with keys less than the node's key.\n",
    "The right subtree of a node contains only nodes with keys greater than the node's key.\n",
    "Both the left and right subtrees must also be binary search trees."
   ]
  },
  {
   "cell_type": "code",
   "execution_count": null,
   "metadata": {},
   "outputs": [],
   "source": [
    "# Definition for a binary tree node.\n",
    "# class TreeNode:\n",
    "#     def __init__(self, val=0, left=None, right=None):\n",
    "#         self.val = val\n",
    "#         self.left = left\n",
    "#         self.right = right\n",
    "class Solution:\n",
    "    def isValidBST(self, root: TreeNode) -> bool:\n",
    "        stack=[]\n",
    "        inorder=float('-inf')\n",
    "        while stack or root:\n",
    "            while root:\n",
    "                stack.append(root)\n",
    "                root=root.left\n",
    "            root=stack.pop()\n",
    "            \n",
    "            if root.val<=inorder:\n",
    "                return False\n",
    "            inorder=root.val\n",
    "            root=root.right\n",
    "        return True"
   ]
  },
  {
   "cell_type": "code",
   "execution_count": null,
   "metadata": {},
   "outputs": [],
   "source": [
    "103. Given a binary tree, return the zigzag level order traversal of its nodes' values. (ie, from left to right, then right to left for the next level and alternate between)."
   ]
  },
  {
   "cell_type": "code",
   "execution_count": null,
   "metadata": {},
   "outputs": [],
   "source": [
    "# Definition for a binary tree node.\n",
    "# class TreeNode:\n",
    "#     def __init__(self, val=0, left=None, right=None):\n",
    "#         self.val = val\n",
    "#         self.left = left\n",
    "#         self.right = right\n",
    "class Solution:\n",
    "    def zigzagLevelOrder(self, root: TreeNode) -> List[List[int]]:\n",
    "        levels=[]\n",
    "        if not root:\n",
    "            return levels\n",
    "        def helper(node,level):\n",
    "            if len(levels)==level:\n",
    "                levels.append([])\n",
    "            levels[level].append(node.val)\n",
    "            if node.left:\n",
    "                helper(node.left,level+1)\n",
    "            if node.right:\n",
    "                helper(node.right,level+1)\n",
    "        helper(root,0)\n",
    "        \n",
    "        for i in range(len(levels)):\n",
    "            if i%2!=0:\n",
    "                levels[i]=levels[i][::-1]\n",
    "        return levels"
   ]
  }
 ],
 "metadata": {
  "kernelspec": {
   "display_name": "Python 3",
   "language": "python",
   "name": "python3"
  },
  "language_info": {
   "codemirror_mode": {
    "name": "ipython",
    "version": 3
   },
   "file_extension": ".py",
   "mimetype": "text/x-python",
   "name": "python",
   "nbconvert_exporter": "python",
   "pygments_lexer": "ipython3",
   "version": "3.8.3"
  }
 },
 "nbformat": 4,
 "nbformat_minor": 4
}
